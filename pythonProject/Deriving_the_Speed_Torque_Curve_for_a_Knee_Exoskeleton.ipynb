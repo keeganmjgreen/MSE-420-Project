{
  "nbformat": 4,
  "nbformat_minor": 0,
  "metadata": {
    "colab": {
      "name": "Deriving the Speed–Torque Curve for a Knee Exoskeleton",
      "provenance": [],
      "collapsed_sections": [],
      "toc_visible": true
    },
    "kernelspec": {
      "name": "python3",
      "display_name": "Python 3"
    }
  },
  "cells": [
    {
      "cell_type": "markdown",
      "metadata": {
        "id": "sDRS-skI_uL1"
      },
      "source": [
        "\n",
        "----\n",
        "\n",
        "Keegan Green · [kmgreen@sfu.ca](kmgreen@sfu.ca)\n",
        "\n",
        "# [Deriving the Speed–Torque Curve for a Knee Exoskeleton](https://mse-420-project.readthedocs.io/en/latest/Deriving_the_Speed_Torque_Curve_for_a_Knee_Exoskeleton.html)\n",
        "\n",
        "Data analysis has been redone and improved in Python, with the help of a [basis expansions module](https://github.com/madrury/basis-expansions).\n"
      ]
    },
    {
      "cell_type": "code",
      "metadata": {
        "id": "8-Qd9018tWJL"
      },
      "source": [
        "\n",
        "fs            =  100\n",
        "window        =    5\n",
        "reps          =    2\n",
        "knots_per_rep =  100\n",
        "nq            = 2000\n"
      ],
      "execution_count": null,
      "outputs": []
    },
    {
      "cell_type": "code",
      "metadata": {
        "id": "217is79KuqPi"
      },
      "source": [
        "\n",
        "import pandas            as pd\n",
        "import numpy             as np\n",
        "import matplotlib.pyplot as plt\n",
        "import csv\n"
      ],
      "execution_count": null,
      "outputs": []
    },
    {
      "cell_type": "code",
      "metadata": {
        "id": "qppPDOxSE_du"
      },
      "source": [
        "\n",
        "def my_smooth(arr_p, window):\n",
        "\n",
        "    start = - window // 2\n",
        "    stop  = + window // 2 + np.size(arr_p)\n",
        "\n",
        "    idx   = range(start, stop)\n",
        "    idx_p = range(0, np.size(arr_p))\n",
        "\n",
        "    arr = np.interp(idx, idx_p, arr_p, period = np.size(arr_p))\n",
        "\n",
        "    return pd.Series(arr).rolling(window, center = True).mean().to_numpy()[- start : stop]\n"
      ],
      "execution_count": null,
      "outputs": []
    },
    {
      "cell_type": "code",
      "metadata": {
        "id": "SMb7K_X4B7U2"
      },
      "source": [
        "\n",
        "def my_show():\n",
        "\n",
        "    plt.grid()\n",
        "\n",
        "    plt.xlim([ 0,   1 ])\n",
        "    plt.ylim([ 0, 180 ])\n",
        "\n",
        "    plt.xticks([ 0,       1 ])\n",
        "    plt.yticks([ 0, 90, 180 ])\n",
        "\n",
        "    plt.show()\n"
      ],
      "execution_count": null,
      "outputs": []
    },
    {
      "cell_type": "code",
      "metadata": {
        "id": "TPDTN0FOOnkd"
      },
      "source": [
        "\n",
        "def get_xy(Y, fs, window, cycles, reps, knots_per_rep, nq):\n",
        "\n",
        "    Y = np.squeeze(Y)\n",
        "\n",
        "    Y_smooth = pd.Series(Y).rolling(window, center = True).mean().to_numpy()\n",
        "\n",
        "    from scipy.signal import find_peaks\n",
        "\n",
        "    peaks, _ = find_peaks(Y_smooth)\n",
        "    heights = - Y_smooth[peaks]\n",
        "\n",
        "    peaks = pd.DataFrame(np.c_[peaks, heights]).sort_values(1).iloc[: cycles + 1, 0].sort_values().to_numpy().astype(int)\n",
        "\n",
        "    T = np.diff(peaks) / fs\n",
        "\n",
        "    x, y, x_data, y_data = [], [], [], []\n",
        "\n",
        "    for i in range(0, np.size(peaks) - 1):\n",
        "\n",
        "        x.append(np.linspace(0, 1, peaks[i + 1] - peaks[i] + 1))\n",
        "        y.append(Y_smooth[peaks[i] : peaks[i + 1] + 1])\n",
        "\n",
        "        plt.plot(x[i], y[i], color = '#CFD8DC')\n",
        "\n",
        "        x_data = np.r_[x_data, x[i][1 :]]\n",
        "        y_data = np.r_[y_data, y[i][1 :]]\n",
        "\n",
        "    x_data = np.r_[x[0][0], x_data]\n",
        "    y_data = np.r_[y[0][0], y_data]\n",
        "\n",
        "    X1, X2 = np.meshgrid(x_data[1 :], range(0, reps))\n",
        "\n",
        "    X_data = np.r_[x_data[0], np.ndarray.flatten(X1 + X2)]\n",
        "    Y_data = np.r_[y_data[0], np.tile(y_data[1 :], reps)]\n",
        "\n",
        "    n_knots = 1 + knots_per_rep * reps\n",
        "\n",
        "    from get_natural_cubic_spline_model import get_natural_cubic_spline_model\n",
        "\n",
        "    model = get_natural_cubic_spline_model(X_data, Y_data, min(X_data), max(X_data), n_knots)\n",
        "\n",
        "    spl = lambda x: model.predict(x)\n",
        "\n",
        "    df = pd.DataFrame(np.c_[X_data, Y_data]).pivot_table(values = 1, index = 0, aggfunc = ['mean', 'count'])\n",
        "\n",
        "    X_data = df.index.to_numpy()\n",
        "\n",
        "    Y_data = df.to_numpy()[:, 0]  # mean\n",
        "    w      = df.to_numpy()[:, 1]  # count\n",
        "\n",
        "  # from scipy.interpolate import UnivariateSpline\n",
        "\n",
        "  # spl = UnivariateSpline(X_data, Y_data, w, s = 5e4)\n",
        "\n",
        "    if reps % 2 != 0:\n",
        "\n",
        "        xq = np.linspace(0, 1, nq + 1)[: -1]\n",
        "        yq = spl(xq + (reps - 1) / 2)\n",
        "\n",
        "    else:\n",
        "\n",
        "        xq1 = np.linspace(0.0, 0.5, round(nq / 2) + 1)\n",
        "        xq2 = np.linspace(0.5, 1.0, round(nq / 2) + 1)\n",
        "\n",
        "        yq1 = spl(xq1 + reps / 2 - 0)\n",
        "        yq2 = spl(xq2 + reps / 2 - 1)\n",
        "\n",
        "        xq = np.r_[xq1[: -1], (xq1[-1] + xq2[0]) / 2, xq2[1 : -1]]\n",
        "        yq = np.r_[yq1[: -1], (yq1[-1] + yq2[0]) / 2, yq2[1 : -1]]\n",
        "\n",
        "    line = plt.plot(np.r_[xq, 1], np.r_[yq, yq[0]], color = '#000000')\n",
        "\n",
        "    plt.legend(line, ['Cubic Spline'], frameon = False, loc = 'upper center')\n",
        "\n",
        "    plt.xlabel('Arbitrary Fraction of Gait Cycle')\n",
        "    plt.ylabel('\\n Angle (deg) Below Anterior Horizontal Plane \\n')\n",
        "\n",
        "    return T, xq, yq\n"
      ],
      "execution_count": null,
      "outputs": []
    },
    {
      "cell_type": "markdown",
      "metadata": {
        "id": "FSNTcH8fuaVN"
      },
      "source": [
        "\n",
        "## 0.1. Downhill (`_D`)\n"
      ]
    },
    {
      "cell_type": "markdown",
      "metadata": {
        "id": "t3mTs2S03y_3"
      },
      "source": [
        "\n",
        "### 0.1.2. Upper Leg (`_U`) Angle\n"
      ]
    },
    {
      "cell_type": "code",
      "metadata": {
        "id": "jV0fTGi8v55c"
      },
      "source": [
        "\n",
        "Y_U_D = pd.read_csv('https://raw.github.com/keeganmjgreen/MSE-420-Project/master/data/Y_U_D.csv').to_numpy()\n",
        "\n",
        "T_U_D, xq, yq_U_D = get_xy(Y_U_D, fs, window, 37, reps, knots_per_rep, nq)\n",
        "\n",
        "plt.title('\\n Downhill — Upper Leg \\n')\n",
        "\n",
        "my_show()\n"
      ],
      "execution_count": null,
      "outputs": []
    },
    {
      "cell_type": "markdown",
      "metadata": {
        "id": "aWcGFTsfPPY2"
      },
      "source": [
        "![](https://raw.github.com/keeganmjgreen/MSE-420-Project/master/plots/y_U_D.svg)"
      ]
    },
    {
      "cell_type": "markdown",
      "metadata": {
        "id": "roNrDAIH0B8E"
      },
      "source": [
        "\n",
        "### 0.1.1. Lower Leg (`_L`) Angle\n"
      ]
    },
    {
      "cell_type": "code",
      "metadata": {
        "id": "10y4l0wsr8w4"
      },
      "source": [
        "\n",
        "Y_L_D = pd.read_csv('https://raw.github.com/keeganmjgreen/MSE-420-Project/master/data/Y_L_D.csv').to_numpy()\n",
        "\n",
        "T_L_D, xq, yq_L_D = get_xy(Y_L_D, fs, window, 38, reps, knots_per_rep, nq)\n",
        "\n",
        "plt.title('\\n Downhill — Lower Leg \\n')\n",
        "\n",
        "my_show()\n"
      ],
      "execution_count": null,
      "outputs": []
    },
    {
      "cell_type": "markdown",
      "metadata": {
        "id": "UWJ5MqKZQos7"
      },
      "source": [
        "![](https://raw.github.com/keeganmjgreen/MSE-420-Project/master/plots/y_L_D.svg)"
      ]
    },
    {
      "cell_type": "markdown",
      "metadata": {
        "id": "egmC57HbzG62"
      },
      "source": [
        "\n",
        "### 0.1.3. Upper and Lower Leg Angles\n"
      ]
    },
    {
      "cell_type": "code",
      "metadata": {
        "id": "BrMZVYTuzUrl"
      },
      "source": [
        "\n",
        "θq_U_D = np.roll(yq_U_D, - np.argmin(yq_U_D))\n",
        "θq_L_D = np.roll(yq_L_D, - np.argmin(yq_L_D))\n",
        "\n",
        "plt.plot(np.r_[xq, 1], np.r_[θq_U_D, θq_U_D[0]], color = '#BA000D')\n",
        "plt.plot(np.r_[xq, 1], np.r_[θq_L_D, θq_L_D[0]], color = '#0069C0')\n",
        "\n",
        "plt.legend(('Upper Leg', 'Lower Leg'), frameon = False, loc = 'upper center', ncol = 2)\n",
        "\n",
        "plt.xlabel('Matched Fraction of Gait Cycle')\n",
        "plt.ylabel('\\n Angle (deg) Below Anterior Horizontal Plane \\n')\n",
        "\n",
        "plt.title('\\n Downhill — Upper and Lower Leg \\n')\n",
        "\n",
        "my_show()\n"
      ],
      "execution_count": null,
      "outputs": []
    },
    {
      "cell_type": "markdown",
      "metadata": {
        "id": "sSs0nrg7Qzsn"
      },
      "source": [
        "![](https://raw.github.com/keeganmjgreen/MSE-420-Project/master/plots/θ_D.svg)"
      ]
    },
    {
      "cell_type": "markdown",
      "metadata": {
        "id": "G_CafT1EWucn"
      },
      "source": [
        "\n",
        "### 0.1.4. Knee (`_K`) Angle\n"
      ]
    },
    {
      "cell_type": "code",
      "metadata": {
        "id": "HUP2PCOj4qJC"
      },
      "source": [
        "\n",
        "θq_K_D = θq_U_D - θq_L_D + 180\n",
        "\n",
        "plt.plot(np.r_[xq, 1], np.r_[θq_K_D, θq_K_D[0]], color = '#087F23')\n",
        "\n",
        "plt.xlabel('Matched Fraction of Gait Cycle')\n",
        "plt.ylabel('\\n Angle (deg) \\n')\n",
        "\n",
        "plt.title('\\n Downhill — Knee \\n')\n",
        "\n",
        "my_show()\n"
      ],
      "execution_count": null,
      "outputs": []
    },
    {
      "cell_type": "markdown",
      "metadata": {
        "id": "otQ3bF7YRRp3"
      },
      "source": [
        "![](https://raw.github.com/keeganmjgreen/MSE-420-Project/master/plots/θ_K_D.svg)"
      ]
    },
    {
      "cell_type": "code",
      "metadata": {
        "id": "70LfKy8SqLRz"
      },
      "source": [
        "\n",
        "θq_K_D = np.deg2rad(θq_K_D)\n",
        "\n",
        "Ts_D = np.mean(np.r_[T_L_D, T_U_D]) / nq\n",
        "\n",
        "x = np.linspace(0, 1, 2 * nq + 1)[: -1]\n"
      ],
      "execution_count": null,
      "outputs": []
    },
    {
      "cell_type": "markdown",
      "metadata": {
        "id": "g8abIk3yW6Bw"
      },
      "source": [
        "\n",
        "### 0.1.5. Knee Angular Velocity\n"
      ]
    },
    {
      "cell_type": "code",
      "metadata": {
        "id": "EbwWG6ONEs7K"
      },
      "source": [
        "\n",
        "ωq_K_D = np.diff(np.r_[θq_K_D, θq_K_D[0]]) / Ts_D\n",
        "ωq_K_D = my_smooth(ωq_K_D, window * round(nq / fs))\n",
        "\n",
        "ω_K_D = np.interp(x, xq + 1 / (2 * nq), ωq_K_D, period = 1)\n",
        "\n",
        "plt.plot(np.r_[x, 1], np.r_[ω_K_D, ω_K_D[0]], color = '#087F23')\n",
        "\n",
        "plt.xlabel('Matched Fraction of Gait Cycle')\n",
        "plt.ylabel('\\n Angular Velocity (rad/s) \\n')\n",
        "\n",
        "plt.title('\\n Downhill — Knee \\n')\n",
        "\n",
        "plt.grid()\n",
        "\n",
        "plt.xlim([ 0, 1 ])\n",
        "plt.ylim([-5, 5 ])\n",
        "\n",
        "plt.xticks([ 0,    1 ])\n",
        "plt.yticks([-5, 0, 5 ])\n",
        "\n",
        "plt.show()\n"
      ],
      "execution_count": null,
      "outputs": []
    },
    {
      "cell_type": "markdown",
      "metadata": {
        "id": "167iQ5waRdUs"
      },
      "source": [
        "![](https://raw.github.com/keeganmjgreen/MSE-420-Project/master/plots/ω_K_D.svg)"
      ]
    },
    {
      "cell_type": "markdown",
      "metadata": {
        "id": "D-AibIXYXPhB"
      },
      "source": [
        "\n",
        "### 0.1.6. Knee Angular Acceleration\n"
      ]
    },
    {
      "cell_type": "code",
      "metadata": {
        "id": "bM3e5dFHqJ6r"
      },
      "source": [
        "\n",
        "αq_K_D = np.diff(np.r_[ωq_K_D, ωq_K_D[0]]) / Ts_D\n",
        "αq_K_D = my_smooth(αq_K_D, window * round(nq / fs))\n",
        "\n",
        "α_K_D = np.interp(x, xq + 1 / (2 * nq), αq_K_D, period = 1)\n",
        "\n",
        "plt.plot(np.r_[x, 1], np.r_[α_K_D, α_K_D[0]], color = '#087F23')\n",
        "\n",
        "plt.xlabel('Matched Fraction of Gait Cycle')\n",
        "plt.ylabel('Angular Acceleration (rad/s²)')\n",
        "\n",
        "plt.title('\\n Downhill — Knee \\n')\n",
        "\n",
        "plt.grid()\n",
        "\n",
        "plt.xlim([   0,   1 ])\n",
        "plt.ylim([-150, 150 ])\n",
        "\n",
        "plt.xticks([   0,      1 ])\n",
        "plt.yticks([-150, 0, 150 ])\n",
        "\n",
        "plt.show()\n"
      ],
      "execution_count": null,
      "outputs": []
    },
    {
      "cell_type": "markdown",
      "metadata": {
        "id": "0kCCpxRaRiee"
      },
      "source": [
        "![](https://raw.github.com/keeganmjgreen/MSE-420-Project/master/plots/α_K_D.svg)"
      ]
    },
    {
      "cell_type": "markdown",
      "metadata": {
        "id": "XUjJaPIOazwj"
      },
      "source": [
        "\n",
        "### 0.1.7. Knee Drive Speed–Torque Relationship\n"
      ]
    },
    {
      "cell_type": "code",
      "metadata": {
        "id": "msX3U-1lP0Ig"
      },
      "source": [
        "\n",
        "H   = 1.8\n",
        "m_B = 1.0\n",
        "g   = 9.8\n",
        "\n",
        "l_T = (0.720 - 0.530) * H\n",
        "l_U = (0.530 - 0.285) * H\n",
        "\n",
        "ι_D = m_B * (l_T ** 2 + l_U ** 2 - 2 * l_T * l_U * np.cos(np.deg2rad(θq_U_D + 90)))\n",
        "\n",
        "τq_K_D = ι_D * αq_K_D + m_B * l_U * np.cos(np.deg2rad(θq_U_D)) * g\n",
        "\n",
        "plt.plot(abs(τq_K_D), abs(ωq_K_D), color = '#087F23')\n",
        "\n",
        "plt.xlim([ 0, 100 ])\n",
        "plt.ylim([ 0,   5 ])\n",
        "\n",
        "plt.xticks([ 0, 100 ])\n",
        "plt.yticks([ 0,   5 ])\n",
        "\n",
        "plt.xlabel('Torque (N-m)')\n",
        "plt.ylabel('\\n Speed (rad/s²) \\n')\n",
        "\n",
        "plt.title('\\n Downhill — Knee Drive \\n')\n",
        "\n",
        "plt.show()\n"
      ],
      "execution_count": null,
      "outputs": []
    },
    {
      "cell_type": "markdown",
      "metadata": {
        "id": "A4EtYZURRswj"
      },
      "source": [
        "![](https://raw.github.com/keeganmjgreen/MSE-420-Project/master/plots/ω_vs_τ_K_D.svg)"
      ]
    },
    {
      "cell_type": "code",
      "metadata": {
        "id": "RCsG40ejYc95"
      },
      "source": [
        "\n",
        "writer = csv.writer(open('_D.csv', 'w', newline = ''))\n",
        "\n",
        "writer.writerows([['abs(τq_K_D)', 'abs(ωq_K_D)']])\n",
        "writer.writerows(np.c_[abs(τq_K_D), abs(ωq_K_D)].tolist())\n"
      ],
      "execution_count": null,
      "outputs": []
    },
    {
      "cell_type": "markdown",
      "metadata": {
        "id": "w6qmvpTIv1yo"
      },
      "source": [
        "\n",
        "## 0.2. Uphill (`_I`)\n"
      ]
    },
    {
      "cell_type": "markdown",
      "metadata": {
        "id": "vADFlzS3xI4_"
      },
      "source": [
        "\n",
        "### 0.2.2. Upper Leg (`_U`) Angle\n"
      ]
    },
    {
      "cell_type": "code",
      "metadata": {
        "id": "w4ADNJV8xM30"
      },
      "source": [
        "\n",
        "Y_U_I = pd.read_csv('https://raw.github.com/keeganmjgreen/MSE-420-Project/master/data/Y_U_I.csv').to_numpy()\n",
        "\n",
        "T_U_I, xq, yq_U_I = get_xy(Y_U_I, fs, window, 34, reps, knots_per_rep, nq)\n",
        "\n",
        "plt.title('Uphill — Upper Leg')\n",
        "\n",
        "my_show()\n"
      ],
      "execution_count": null,
      "outputs": []
    },
    {
      "cell_type": "markdown",
      "metadata": {
        "id": "iWhlIxtbR9op"
      },
      "source": [
        "![](https://raw.github.com/keeganmjgreen/MSE-420-Project/master/plots/y_U_I.svg)"
      ]
    },
    {
      "cell_type": "markdown",
      "metadata": {
        "id": "b5maE9Fx0GXR"
      },
      "source": [
        "\n",
        "### 0.2.1. Lower Leg (`_L`) Angle\n"
      ]
    },
    {
      "cell_type": "code",
      "metadata": {
        "id": "OTTxY7z2rwoo"
      },
      "source": [
        "\n",
        "Y_L_I = pd.read_csv('https://raw.github.com/keeganmjgreen/MSE-420-Project/master/data/Y_L_I.csv').to_numpy()\n",
        "\n",
        "T_L_I, xq, yq_L_I = get_xy(Y_L_I, fs, window, 38, reps, knots_per_rep, nq)\n",
        "\n",
        "plt.title('Uphill — Lower Leg')\n",
        "\n",
        "my_show()\n"
      ],
      "execution_count": null,
      "outputs": []
    },
    {
      "cell_type": "markdown",
      "metadata": {
        "id": "E7fiiFTgSCf3"
      },
      "source": [
        "![](https://raw.github.com/keeganmjgreen/MSE-420-Project/master/plots/y_L_I.svg)"
      ]
    },
    {
      "cell_type": "markdown",
      "metadata": {
        "id": "v5U9RLnlgXGT"
      },
      "source": [
        "\n",
        "----\n",
        "\n",
        "(C) Copyright 2021, Keegan Green.\n"
      ]
    }
  ]
}